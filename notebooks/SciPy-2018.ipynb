{
 "cells": [
  {
   "cell_type": "markdown",
   "id": "302daaee",
   "metadata": {},
   "source": [
    "# CVXPY at SciPy 2018\n",
    "\n",
    "> https://youtu.be/kXqu-TqEl7Q\n",
    "\n",
    "- https://www.cvxpy.org/\n",
    "    - https://www.cvxpy.org/api_reference/cvxpy.atoms.html"
   ]
  },
  {
   "cell_type": "code",
   "execution_count": 48,
   "id": "1c90bbea",
   "metadata": {},
   "outputs": [],
   "source": [
    "import cvxpy as C\n",
    "import numpy as np\n",
    "import matplotlib.pyplot as plt"
   ]
  },
  {
   "cell_type": "code",
   "execution_count": 45,
   "id": "5630b9f6",
   "metadata": {},
   "outputs": [
    {
     "name": "stdout",
     "output_type": "stream",
     "text": [
      "A:\t\t [[ 2 10]]\n",
      "b:\t\t [ 1 -1]\n",
      "x:\t\t [-2.33374069e-23  9.65936165e-24]\n",
      "A@x - b:\t [-1.  1.]\n",
      "Solution:\t [-2.33374069e-23  9.65936165e-24]\n"
     ]
    }
   ],
   "source": [
    "n = 2\n",
    "gamma = 0.08\n",
    "A = np.array([[2,10]])\n",
    "b = np.array([1,-1])\n",
    "x = C.Variable(n)\n",
    "cost = C.sum_squares(A@x - b) + gamma * C.norm(x, 1)\n",
    "obj = C.Minimize(cost)\n",
    "constr = [C.sum(x) == 0, C.norm(x, \"inf\") <= 1]\n",
    "prob = C.Problem(obj, constr)\n",
    "opt_val = prob.solve()\n",
    "solution = x.value\n",
    "\n",
    "print('A:\\t\\t', A)\n",
    "print('b:\\t\\t', b)\n",
    "print('x:\\t\\t', x.value)\n",
    "print('A@x - b:\\t', (A@x - b).value)\n",
    "print('Solution:\\t', solution)\n"
   ]
  },
  {
   "cell_type": "code",
   "execution_count": 41,
   "id": "ce5b18c4",
   "metadata": {},
   "outputs": [
    {
     "name": "stdout",
     "output_type": "stream",
     "text": [
      "A:\t\t [2 3]\n",
      "b:\t\t [0.34169052 0.64702178]\n",
      "x:\t\t [-0.45435612  0.45435613]\n",
      "A@x - b:\t [ 0.11266562 -0.19266564]\n"
     ]
    }
   ],
   "source": []
  },
  {
   "cell_type": "code",
   "execution_count": 40,
   "id": "691f10aa",
   "metadata": {},
   "outputs": [
    {
     "data": {
      "text/plain": [
       "array([0.3918977 , 0.96145661])"
      ]
     },
     "execution_count": 40,
     "metadata": {},
     "output_type": "execute_result"
    }
   ],
   "source": [
    "np.random.random(2)"
   ]
  },
  {
   "cell_type": "code",
   "execution_count": 53,
   "id": "73bc94a9",
   "metadata": {},
   "outputs": [
    {
     "data": {
      "text/plain": [
       "[<matplotlib.lines.Line2D at 0x1251de460>]"
      ]
     },
     "execution_count": 53,
     "metadata": {},
     "output_type": "execute_result"
    },
    {
     "data": {
      "image/png": "[encoded data removed]",
      "text/plain": [
       "<Figure size 432x288 with 1 Axes>"
      ]
     },
     "metadata": {
      "needs_background": "light"
     },
     "output_type": "display_data"
    }
   ],
   "source": [
    "X = np.linspace(0,10, 100)\n",
    "y = [C.norm(x,1).value for x in X]\n",
    "plt.plot(X,y)"
   ]
  },
  {
   "cell_type": "code",
   "execution_count": null,
   "id": "35be7ca9",
   "metadata": {},
   "outputs": [],
   "source": []
  }
 ],
 "metadata": {
  "kernelspec": {
   "display_name": "Python 3 (ipykernel)",
   "language": "python",
   "name": "python3"
  },
  "language_info": {
   "codemirror_mode": {
    "name": "ipython",
    "version": 3
   },
   "file_extension": ".py",
   "mimetype": "text/x-python",
   "name": "python",
   "nbconvert_exporter": "python",
   "pygments_lexer": "ipython3",
   "version": "3.9.7"
  }
 },
 "nbformat": 4,
 "nbformat_minor": 5
}
