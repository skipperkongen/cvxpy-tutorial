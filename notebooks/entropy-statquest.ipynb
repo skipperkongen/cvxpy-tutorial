{
 "cells": [
  {
   "cell_type": "markdown",
   "id": "a9b96d5d",
   "metadata": {},
   "source": [
    "# Entropy\n",
    "\n",
    "> https://www.youtube.com/watch?v=YtebGVx-Fxw&t=25s\n",
    "\n",
    "Entropy equals surprise time the probability of surprise\n",
    "\n",
    "Algebra to standard form\n",
    "\n",
    "```\n",
    "SUM p * log(1/p)\n",
    "SUM p * (log(1)-log(p))\n",
    "SUM p * (0-log(p))\n",
    "SUM -p * log(p)\n",
    "```\n",
    "\n"
   ]
  },
  {
   "cell_type": "code",
   "execution_count": 21,
   "id": "52e92d90",
   "metadata": {},
   "outputs": [],
   "source": [
    "import numpy as np\n",
    "import cvxpy as C"
   ]
  },
  {
   "cell_type": "markdown",
   "id": "ad73e893",
   "metadata": {},
   "source": [
    "## Chick'ins"
   ]
  },
  {
   "cell_type": "code",
   "execution_count": 13,
   "id": "630552fb",
   "metadata": {},
   "outputs": [
    {
     "name": "stdout",
     "output_type": "stream",
     "text": [
      "0.8571428571428571 0.22239242133644802 0.14285714285714285 2.807354922057604  => 0.5916727785823275\n"
     ]
    }
   ],
   "source": [
    "A = np.array([0,0,0,0,0,0,1])\n",
    "p0 = len(A[A==0])/len(A)\n",
    "s0 = np.log2(1/p0)\n",
    "p1 = len(A[A==1])/len(A)\n",
    "s1 = np.log2(1/p1)\n",
    "\n",
    "\n",
    "print(p0, s0, p1, s1, ' =>', p0*s0 + p1*s1)"
   ]
  },
  {
   "cell_type": "code",
   "execution_count": 14,
   "id": "6408aabf",
   "metadata": {},
   "outputs": [
    {
     "data": {
      "text/plain": [
       "0.4394969869215134"
      ]
     },
     "execution_count": 14,
     "metadata": {},
     "output_type": "execute_result"
    }
   ],
   "source": [
    "(1/11)*np.log2(1/(1/11)) + (10/11)*np.log2(1/(10/11))"
   ]
  },
  {
   "cell_type": "markdown",
   "id": "51000f99",
   "metadata": {},
   "source": [
    "## Coinflip"
   ]
  },
  {
   "cell_type": "code",
   "execution_count": 16,
   "id": "6b2aee4d",
   "metadata": {},
   "outputs": [
    {
     "data": {
      "text/plain": [
       "1.0"
      ]
     },
     "execution_count": 16,
     "metadata": {},
     "output_type": "execute_result"
    }
   ],
   "source": [
    "# fair coin\n",
    "0.5 * np.log2(1/0.5) + 0.5 * np.log2(1/0.5)"
   ]
  },
  {
   "cell_type": "code",
   "execution_count": 17,
   "id": "fdd5204d",
   "metadata": {},
   "outputs": [
    {
     "data": {
      "text/plain": [
       "0.9927744539878084"
      ]
     },
     "execution_count": 17,
     "metadata": {},
     "output_type": "execute_result"
    }
   ],
   "source": [
    "# fair coin\n",
    "0.45 * np.log2(1/0.45) + 0.55 * np.log2(1/0.55)"
   ]
  },
  {
   "cell_type": "markdown",
   "id": "1936f134",
   "metadata": {},
   "source": [
    "## Six-sided dice"
   ]
  },
  {
   "cell_type": "code",
   "execution_count": 20,
   "id": "38990754",
   "metadata": {},
   "outputs": [
    {
     "data": {
      "text/plain": [
       "2.584962500721156"
      ]
     },
     "execution_count": 20,
     "metadata": {},
     "output_type": "execute_result"
    }
   ],
   "source": [
    "(\n",
    "    1/6 * np.log2(1/(1/6)) +\n",
    "    1/6 * np.log2(1/(1/6)) + \n",
    "    1/6 * np.log2(1/(1/6)) + \n",
    "    1/6 * np.log2(1/(1/6)) + \n",
    "    1/6 * np.log2(1/(1/6)) + \n",
    "    1/6 * np.log2(1/(1/6))\n",
    ")"
   ]
  },
  {
   "cell_type": "markdown",
   "id": "46b17608",
   "metadata": {},
   "source": [
    "## N-sided dice"
   ]
  },
  {
   "cell_type": "code",
   "execution_count": 27,
   "id": "156ddef7",
   "metadata": {},
   "outputs": [
    {
     "data": {
      "text/plain": [
       "array([[-0.        ],\n",
       "       [-0.        ],\n",
       "       [-1.38629436],\n",
       "       [-3.29583687]])"
      ]
     },
     "execution_count": 27,
     "metadata": {},
     "output_type": "execute_result"
    }
   ],
   "source": [
    "C.entr([[0,1,2,3]]).value"
   ]
  },
  {
   "cell_type": "code",
   "execution_count": null,
   "id": "dde43194",
   "metadata": {},
   "outputs": [],
   "source": []
  }
 ],
 "metadata": {
  "kernelspec": {
   "display_name": "Python 3 (ipykernel)",
   "language": "python",
   "name": "python3"
  },
  "language_info": {
   "codemirror_mode": {
    "name": "ipython",
    "version": 3
   },
   "file_extension": ".py",
   "mimetype": "text/x-python",
   "name": "python",
   "nbconvert_exporter": "python",
   "pygments_lexer": "ipython3",
   "version": "3.9.7"
  }
 },
 "nbformat": 4,
 "nbformat_minor": 5
}
